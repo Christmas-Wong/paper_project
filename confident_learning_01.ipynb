{
 "cells": [
  {
   "cell_type": "markdown",
   "source": [
    "# Page 1 CL Methods\n",
    "本章主要介绍置信学习（Confident Learning）的计算过程"
   ],
   "metadata": {
    "collapsed": false
   }
  },
  {
   "cell_type": "markdown",
   "source": [],
   "metadata": {
    "collapsed": false
   }
  },
  {
   "cell_type": "code",
   "execution_count": 7,
   "metadata": {
    "collapsed": true
   },
   "outputs": [],
   "source": [
    "import numpy as np\n",
    "import pandas as pd"
   ]
  },
  {
   "cell_type": "markdown",
   "source": [
    "# STEP 0 构建输入样本\n",
    "- 总样本量为10\n",
    "- 人工标签（label_origin）是0的样本有5条（前五个样本）\n",
    "- 人工标签（label_origin）是1的样本有5条（后五个样本）"
   ],
   "metadata": {
    "collapsed": false
   }
  },
  {
   "cell_type": "code",
   "execution_count": 68,
   "outputs": [
    {
     "data": {
      "text/plain": "    j=0  j=1  label_origin==0\n0   0.9  0.1                0\n1   0.9  0.1                0\n2   0.5  0.5                0\n3   0.3  0.7                0\n4   0.3  0.7                0\n5   0.2  0.9                1\n6   0.2  0.8                1\n7   0.4  0.7                1\n8   0.5  0.5                1\n9   0.6  0.4                1\n10  0.9  0.1                0\n11  0.9  0.1                0\n12  0.5  0.5                0\n13  0.3  0.7                0\n14  0.3  0.7                0\n15  0.2  0.9                1\n16  0.2  0.8                1\n17  0.4  0.7                1\n18  0.5  0.5                1\n19  0.6  0.4                1",
      "text/html": "<div>\n<style scoped>\n    .dataframe tbody tr th:only-of-type {\n        vertical-align: middle;\n    }\n\n    .dataframe tbody tr th {\n        vertical-align: top;\n    }\n\n    .dataframe thead th {\n        text-align: right;\n    }\n</style>\n<table border=\"1\" class=\"dataframe\">\n  <thead>\n    <tr style=\"text-align: right;\">\n      <th></th>\n      <th>j=0</th>\n      <th>j=1</th>\n      <th>label_origin==0</th>\n    </tr>\n  </thead>\n  <tbody>\n    <tr>\n      <th>0</th>\n      <td>0.9</td>\n      <td>0.1</td>\n      <td>0</td>\n    </tr>\n    <tr>\n      <th>1</th>\n      <td>0.9</td>\n      <td>0.1</td>\n      <td>0</td>\n    </tr>\n    <tr>\n      <th>2</th>\n      <td>0.5</td>\n      <td>0.5</td>\n      <td>0</td>\n    </tr>\n    <tr>\n      <th>3</th>\n      <td>0.3</td>\n      <td>0.7</td>\n      <td>0</td>\n    </tr>\n    <tr>\n      <th>4</th>\n      <td>0.3</td>\n      <td>0.7</td>\n      <td>0</td>\n    </tr>\n    <tr>\n      <th>5</th>\n      <td>0.2</td>\n      <td>0.9</td>\n      <td>1</td>\n    </tr>\n    <tr>\n      <th>6</th>\n      <td>0.2</td>\n      <td>0.8</td>\n      <td>1</td>\n    </tr>\n    <tr>\n      <th>7</th>\n      <td>0.4</td>\n      <td>0.7</td>\n      <td>1</td>\n    </tr>\n    <tr>\n      <th>8</th>\n      <td>0.5</td>\n      <td>0.5</td>\n      <td>1</td>\n    </tr>\n    <tr>\n      <th>9</th>\n      <td>0.6</td>\n      <td>0.4</td>\n      <td>1</td>\n    </tr>\n    <tr>\n      <th>10</th>\n      <td>0.9</td>\n      <td>0.1</td>\n      <td>0</td>\n    </tr>\n    <tr>\n      <th>11</th>\n      <td>0.9</td>\n      <td>0.1</td>\n      <td>0</td>\n    </tr>\n    <tr>\n      <th>12</th>\n      <td>0.5</td>\n      <td>0.5</td>\n      <td>0</td>\n    </tr>\n    <tr>\n      <th>13</th>\n      <td>0.3</td>\n      <td>0.7</td>\n      <td>0</td>\n    </tr>\n    <tr>\n      <th>14</th>\n      <td>0.3</td>\n      <td>0.7</td>\n      <td>0</td>\n    </tr>\n    <tr>\n      <th>15</th>\n      <td>0.2</td>\n      <td>0.9</td>\n      <td>1</td>\n    </tr>\n    <tr>\n      <th>16</th>\n      <td>0.2</td>\n      <td>0.8</td>\n      <td>1</td>\n    </tr>\n    <tr>\n      <th>17</th>\n      <td>0.4</td>\n      <td>0.7</td>\n      <td>1</td>\n    </tr>\n    <tr>\n      <th>18</th>\n      <td>0.5</td>\n      <td>0.5</td>\n      <td>1</td>\n    </tr>\n    <tr>\n      <th>19</th>\n      <td>0.6</td>\n      <td>0.4</td>\n      <td>1</td>\n    </tr>\n  </tbody>\n</table>\n</div>"
     },
     "execution_count": 68,
     "metadata": {},
     "output_type": "execute_result"
    }
   ],
   "source": [
    "p_0 = [0.9, 0.9, 0.5, 0.3, 0.3, 0.2, 0.2, 0.4, 0.5, 0.6,0.9, 0.9, 0.5, 0.3, 0.3, 0.2, 0.2, 0.4, 0.5, 0.6]\n",
    "p_1 = [0.1, 0.1, 0.5, 0.7, 0.7, 0.9, 0.8, 0.7, 0.5, 0.4,0.1, 0.1, 0.5, 0.7, 0.7, 0.9, 0.8, 0.7, 0.5, 0.4]\n",
    "label_origin = [0, 0, 0, 0, 0, 1, 1, 1, 1, 1,0, 0, 0, 0, 0, 1, 1, 1, 1, 1]\n",
    "\n",
    "# 构建DataFrame\n",
    "dict_data = {\n",
    "    \"j=0\": p_0,\n",
    "    \"j=1\": p_1,\n",
    "    \"label_origin==0\": label_origin,\n",
    "}\n",
    "df_data = pd.DataFrame(dict_data)\n",
    "df_data"
   ],
   "metadata": {
    "collapsed": false,
    "pycharm": {
     "name": "#%%\n"
    }
   }
  },
  {
   "cell_type": "markdown",
   "source": [
    "# STEP 1 计算标签阈值\n",
    "人工标签x的阈值计算方法：所有人工标签为x的样本的预测标签为x的概率平均值"
   ],
   "metadata": {
    "collapsed": false
   }
  },
  {
   "cell_type": "code",
   "execution_count": 70,
   "outputs": [
    {
     "name": "stdout",
     "output_type": "stream",
     "text": [
      "The thresholds of [j==0] is 0.5799999999999998 and [j==1] is 0.66\n"
     ]
    }
   ],
   "source": [
    "list_0 = list()\n",
    "list_1 = list()\n",
    "for index, column in df_data.iterrows():\n",
    "    if column[\"label_origin==0\"] == 0:\n",
    "        list_0.append(column[\"j=0\"])\n",
    "    if column[\"label_origin==0\"] == 1:\n",
    "        list_1.append(column[\"j=1\"])\n",
    "# 前五条记录的人工标签是0，所以j==0的阈值是前五条记录，在类别为0的概率平均值\n",
    "average_p_0 = np.mean(list_0)\n",
    "# 后五条记录的人工标签是1，所以j==1的阈值是后五条记录，在类别为1的概率平均值\n",
    "average_p_1 = np.mean(list_1)\n",
    "\n",
    "print(\"The thresholds of [j==0] is {} and [j==1] is {}\".format(average_p_0, average_p_1))"
   ],
   "metadata": {
    "collapsed": false,
    "pycharm": {
     "name": "#%%\n"
    }
   }
  },
  {
   "cell_type": "markdown",
   "source": [
    "# STEP 2 计算联合统计分布矩阵\n",
    "1. 初始化矩阵\n",
    "2. 遍历所有样本\n",
    "    - 如果标签a的概率大于标签b的概率，且标签a的概率大于标签a的概率阈值，则此样本真实标签为a\n",
    "    - 如果该样本人工标签为a，则在矩阵C[预测标签_a, 真实标签_a]处加1\n",
    "    - 如果该样本人工标签为b，则在矩阵C[预测标签_a, 真实标签_b]处加1"
   ],
   "metadata": {
    "collapsed": false
   }
  },
  {
   "cell_type": "code",
   "execution_count": 71,
   "outputs": [
    {
     "data": {
      "text/plain": "        true_0  true_1\npred_0       0       0\npred_1       0       0",
      "text/html": "<div>\n<style scoped>\n    .dataframe tbody tr th:only-of-type {\n        vertical-align: middle;\n    }\n\n    .dataframe tbody tr th {\n        vertical-align: top;\n    }\n\n    .dataframe thead th {\n        text-align: right;\n    }\n</style>\n<table border=\"1\" class=\"dataframe\">\n  <thead>\n    <tr style=\"text-align: right;\">\n      <th></th>\n      <th>true_0</th>\n      <th>true_1</th>\n    </tr>\n  </thead>\n  <tbody>\n    <tr>\n      <th>pred_0</th>\n      <td>0</td>\n      <td>0</td>\n    </tr>\n    <tr>\n      <th>pred_1</th>\n      <td>0</td>\n      <td>0</td>\n    </tr>\n  </tbody>\n</table>\n</div>"
     },
     "execution_count": 71,
     "metadata": {},
     "output_type": "execute_result"
    }
   ],
   "source": [
    "dict_co_count = {\n",
    "    \"true_0\": [0, 0],\n",
    "    \"true_1\": [0, 0],\n",
    "}\n",
    "\n",
    "df_co_count = pd.DataFrame(dict_co_count, index=[\"pred_0\", \"pred_1\"])\n",
    "df_co_count"
   ],
   "metadata": {
    "collapsed": false,
    "pycharm": {
     "name": "#%%\n"
    }
   }
  },
  {
   "cell_type": "code",
   "execution_count": 72,
   "outputs": [
    {
     "data": {
      "text/plain": "        true_0  true_1\npred_0       4       4\npred_1       2       6",
      "text/html": "<div>\n<style scoped>\n    .dataframe tbody tr th:only-of-type {\n        vertical-align: middle;\n    }\n\n    .dataframe tbody tr th {\n        vertical-align: top;\n    }\n\n    .dataframe thead th {\n        text-align: right;\n    }\n</style>\n<table border=\"1\" class=\"dataframe\">\n  <thead>\n    <tr style=\"text-align: right;\">\n      <th></th>\n      <th>true_0</th>\n      <th>true_1</th>\n    </tr>\n  </thead>\n  <tbody>\n    <tr>\n      <th>pred_0</th>\n      <td>4</td>\n      <td>4</td>\n    </tr>\n    <tr>\n      <th>pred_1</th>\n      <td>2</td>\n      <td>6</td>\n    </tr>\n  </tbody>\n</table>\n</div>"
     },
     "execution_count": 72,
     "metadata": {},
     "output_type": "execute_result"
    }
   ],
   "source": [
    "for index in range(len(label_origin)):\n",
    "    if p_0[index] > p_1[index] and p_0[index] > average_p_0:\n",
    "        if label_origin[index] == 0:\n",
    "            df_co_count.loc[\"pred_0\", \"true_0\"] = df_co_count.at[\"pred_0\", \"true_0\"] + 1\n",
    "        if label_origin[index] == 1:\n",
    "            df_co_count.loc[\"pred_1\", \"true_0\"] = df_co_count.at[\"pred_1\", \"true_0\"] + 1\n",
    "    if p_1[index] > p_0[index] and p_1[index] > average_p_1:\n",
    "        if label_origin[index] == 1:\n",
    "            df_co_count.loc[\"pred_1\", \"true_1\"] = df_co_count.at[\"pred_1\", \"true_1\"] + 1\n",
    "        if label_origin[index] == 0:\n",
    "            df_co_count.loc[\"pred_0\", \"true_1\"] = df_co_count.at[\"pred_0\", \"true_1\"] + 1\n",
    "df_co_count"
   ],
   "metadata": {
    "collapsed": false,
    "pycharm": {
     "name": "#%%\n"
    }
   }
  },
  {
   "cell_type": "markdown",
   "source": [
    "# STEP 3 校准数据分布\n",
    "由于在统计真实标签数量的时候，有限制条件大于标签概率阈值，所以会有部分数据未被纳入统计，导致数据分布发生改变；\n",
    "所以需要对联合统计分布矩阵中的数据进行重新校准，使之与原始分布相同"
   ],
   "metadata": {
    "collapsed": false
   }
  },
  {
   "cell_type": "code",
   "execution_count": 78,
   "outputs": [
    {
     "data": {
      "text/plain": "        true_0  true_1\npred_0     5.0     5.0\npred_1     2.5     7.5",
      "text/html": "<div>\n<style scoped>\n    .dataframe tbody tr th:only-of-type {\n        vertical-align: middle;\n    }\n\n    .dataframe tbody tr th {\n        vertical-align: top;\n    }\n\n    .dataframe thead th {\n        text-align: right;\n    }\n</style>\n<table border=\"1\" class=\"dataframe\">\n  <thead>\n    <tr style=\"text-align: right;\">\n      <th></th>\n      <th>true_0</th>\n      <th>true_1</th>\n    </tr>\n  </thead>\n  <tbody>\n    <tr>\n      <th>pred_0</th>\n      <td>5.0</td>\n      <td>5.0</td>\n    </tr>\n    <tr>\n      <th>pred_1</th>\n      <td>2.5</td>\n      <td>7.5</td>\n    </tr>\n  </tbody>\n</table>\n</div>"
     },
     "execution_count": 78,
     "metadata": {},
     "output_type": "execute_result"
    }
   ],
   "source": [
    "num_label_origin_0, num_label_origin_1 = 10, 10\n",
    "\n",
    "for index, column in df_co_count.iterrows():\n",
    "    y_i_j = column[\"true_0\"] + column[\"true_1\"]\n",
    "    df_co_count.loc[index, 'true_0'] = num_label_origin_0 * column[\"true_0\"]/y_i_j\n",
    "    df_co_count.loc[index, 'true_1'] = num_label_origin_0 * column[\"true_1\"]/y_i_j\n",
    "\n",
    "df_co_count"
   ],
   "metadata": {
    "collapsed": false,
    "pycharm": {
     "name": "#%%\n"
    }
   }
  },
  {
   "cell_type": "markdown",
   "source": [
    "# STEP 4 计算置信度联合概率分布矩阵\n",
    "置信度联合统计矩阵中每个元素除以总元素和"
   ],
   "metadata": {
    "collapsed": false
   }
  },
  {
   "cell_type": "code",
   "execution_count": 79,
   "outputs": [
    {
     "data": {
      "text/plain": "        true_0  true_1\npred_0     0.0     0.0\npred_1     0.0     0.0",
      "text/html": "<div>\n<style scoped>\n    .dataframe tbody tr th:only-of-type {\n        vertical-align: middle;\n    }\n\n    .dataframe tbody tr th {\n        vertical-align: top;\n    }\n\n    .dataframe thead th {\n        text-align: right;\n    }\n</style>\n<table border=\"1\" class=\"dataframe\">\n  <thead>\n    <tr style=\"text-align: right;\">\n      <th></th>\n      <th>true_0</th>\n      <th>true_1</th>\n    </tr>\n  </thead>\n  <tbody>\n    <tr>\n      <th>pred_0</th>\n      <td>0.0</td>\n      <td>0.0</td>\n    </tr>\n    <tr>\n      <th>pred_1</th>\n      <td>0.0</td>\n      <td>0.0</td>\n    </tr>\n  </tbody>\n</table>\n</div>"
     },
     "execution_count": 79,
     "metadata": {},
     "output_type": "execute_result"
    }
   ],
   "source": [
    "dict_co_prob = {\n",
    "    \"true_0\": [0., 0.],\n",
    "    \"true_1\": [0., 0.],\n",
    "}\n",
    "df_co_prob = pd.DataFrame(dict_co_prob, index=[\"pred_0\", \"pred_1\"])\n",
    "df_co_prob"
   ],
   "metadata": {
    "collapsed": false,
    "pycharm": {
     "name": "#%%\n"
    }
   }
  },
  {
   "cell_type": "code",
   "execution_count": 80,
   "outputs": [
    {
     "name": "stdout",
     "output_type": "stream",
     "text": [
      "分母是【20.0】\n"
     ]
    },
    {
     "data": {
      "text/plain": "        true_0  true_1\npred_0   0.250   0.250\npred_1   0.125   0.375",
      "text/html": "<div>\n<style scoped>\n    .dataframe tbody tr th:only-of-type {\n        vertical-align: middle;\n    }\n\n    .dataframe tbody tr th {\n        vertical-align: top;\n    }\n\n    .dataframe thead th {\n        text-align: right;\n    }\n</style>\n<table border=\"1\" class=\"dataframe\">\n  <thead>\n    <tr style=\"text-align: right;\">\n      <th></th>\n      <th>true_0</th>\n      <th>true_1</th>\n    </tr>\n  </thead>\n  <tbody>\n    <tr>\n      <th>pred_0</th>\n      <td>0.250</td>\n      <td>0.250</td>\n    </tr>\n    <tr>\n      <th>pred_1</th>\n      <td>0.125</td>\n      <td>0.375</td>\n    </tr>\n  </tbody>\n</table>\n</div>"
     },
     "execution_count": 80,
     "metadata": {},
     "output_type": "execute_result"
    }
   ],
   "source": [
    "total = 0\n",
    "for column in [\"pred_0\", \"pred_1\"]:\n",
    "    for row in [\"true_0\", \"true_1\"]:\n",
    "        total += df_co_count.at[column, row]\n",
    "\n",
    "print(\"分母是【{}】\".format(total))\n",
    "\n",
    "for column in [\"pred_0\", \"pred_1\"]:\n",
    "    for row in [\"true_0\", \"true_1\"]:\n",
    "        df_co_prob.loc[column, row] = df_co_count.at[column, row]/total\n",
    "df_co_prob"
   ],
   "metadata": {
    "collapsed": false,
    "pycharm": {
     "name": "#%%\n"
    }
   }
  },
  {
   "cell_type": "markdown",
   "source": [
    "# STEP 5 找出标签错误样本\n",
    "- Method_1: 预测标签与人工标签不一致的样本\n",
    "- Method_2: 不在联合统计矩阵对角线上的数据\n",
    "- Method_3: Prune by Class (PBC)\n",
    "- Method_4: Prune by Noise Rate (PBNR)\n",
    "- Method_5: C+NR"
   ],
   "metadata": {
    "collapsed": false
   }
  },
  {
   "cell_type": "code",
   "execution_count": 89,
   "outputs": [
    {
     "name": "stdout",
     "output_type": "stream",
     "text": [
      "The Index of Error Samples are: 3,4,13,14,9,19\n",
      "The Index of Error Samples are: 3,4,13,14,9,19\n",
      "The Index of Error Samples are: 3,4,13,14,9,19\n"
     ]
    }
   ],
   "source": [
    "import cleanlab\n",
    "# 输入\n",
    "# s:噪声标签\n",
    "# psx: n x m 的预测概率概率，通过交叉验证获得\n",
    "s = list()\n",
    "psx = list()\n",
    "for index in range(len(label_origin)):\n",
    "    s.append(label_origin[index])\n",
    "    psx.append(\n",
    "        [p_0[index], p_1[index]]\n",
    "    )\n",
    "s = np.array(s)\n",
    "psx = np.array(psx)\n",
    "# Method 3：Prune by Class (PBC)\n",
    "cl_pbc = cleanlab.pruning.get_noise_indices(\n",
    "    s,\n",
    "    psx,\n",
    "    prune_method='prune_by_class',\n",
    "    sorted_index_method='prob_given_label'\n",
    ")\n",
    "print(\"The Index of Error Samples are: {}\".format(\",\".join([str(ele) for ele in cl_pbc])))\n",
    "# Method 4：Prune by Noise Rate (PBNR)\n",
    "cl_pbnr = cleanlab.pruning.get_noise_indices(\n",
    "    s,\n",
    "    psx,\n",
    "    prune_method='prune_by_noise_rate',\n",
    "    sorted_index_method='prob_given_label'\n",
    ")\n",
    "print(\"The Index of Error Samples are: {}\".format(\",\".join([str(ele) for ele in cl_pbnr])))\n",
    "# Method 5：C+NR\n",
    "cl_both = cleanlab.pruning.get_noise_indices(\n",
    "    s,\n",
    "    psx,\n",
    "    prune_method='both',\n",
    "    sorted_index_method='prob_given_label'\n",
    ")\n",
    "print(\"The Index of Error Samples are: {}\".format(\",\".join([str(ele) for ele in cl_both])))"
   ],
   "metadata": {
    "collapsed": false,
    "pycharm": {
     "name": "#%%\n"
    }
   }
  }
 ],
 "metadata": {
  "kernelspec": {
   "display_name": "Python 3",
   "language": "python",
   "name": "python3"
  },
  "language_info": {
   "codemirror_mode": {
    "name": "ipython",
    "version": 2
   },
   "file_extension": ".py",
   "mimetype": "text/x-python",
   "name": "python",
   "nbconvert_exporter": "python",
   "pygments_lexer": "ipython2",
   "version": "2.7.6"
  }
 },
 "nbformat": 4,
 "nbformat_minor": 0
}