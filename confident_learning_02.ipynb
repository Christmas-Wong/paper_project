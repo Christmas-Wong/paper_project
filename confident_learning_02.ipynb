{
 "cells": [
  {
   "cell_type": "code",
   "execution_count": 29,
   "metadata": {
    "collapsed": true
   },
   "outputs": [],
   "source": [
    "import os\n",
    "import json\n",
    "import codecs\n",
    "import numpy as np\n",
    "from datasets import load_dataset\n",
    "from sklearn.metrics import classification_report\n",
    "from transformers import (\n",
    "    Trainer,\n",
    "    BertTokenizer,\n",
    "    BertForSequenceClassification,\n",
    "    BertConfig,\n",
    "    TrainingArguments,\n",
    "    EarlyStoppingCallback,\n",
    "    default_data_collator,\n",
    "    DataCollatorWithPadding,\n",
    "    TextClassificationPipeline,\n",
    ")\n",
    "DIR = \"E:/datasets/hotel_comment/\""
   ]
  },
  {
   "cell_type": "code",
   "execution_count": 8,
   "outputs": [
    {
     "name": "stderr",
     "output_type": "stream",
     "text": [
      "Using custom data configuration default-3ff479c2ba161dd9\n"
     ]
    },
    {
     "name": "stdout",
     "output_type": "stream",
     "text": [
      "Downloading and preparing dataset json/default to C:\\Users\\chris\\.cache\\huggingface\\datasets\\json\\default-3ff479c2ba161dd9\\0.0.0\\ac0ca5f5289a6cf108e706efcf040422dbbfa8e658dee6a819f20d76bb84d26b...\n"
     ]
    },
    {
     "data": {
      "text/plain": "  0%|          | 0/2 [00:00<?, ?it/s]",
      "application/vnd.jupyter.widget-view+json": {
       "version_major": 2,
       "version_minor": 0,
       "model_id": "412375ffc3d646a0a0c36a4ae6d88ebb"
      }
     },
     "metadata": {},
     "output_type": "display_data"
    },
    {
     "data": {
      "text/plain": "  0%|          | 0/2 [00:00<?, ?it/s]",
      "application/vnd.jupyter.widget-view+json": {
       "version_major": 2,
       "version_minor": 0,
       "model_id": "f2eacf49d0514c1aa87ea12a975c82c6"
      }
     },
     "metadata": {},
     "output_type": "display_data"
    },
    {
     "name": "stdout",
     "output_type": "stream",
     "text": [
      "Dataset json downloaded and prepared to C:\\Users\\chris\\.cache\\huggingface\\datasets\\json\\default-3ff479c2ba161dd9\\0.0.0\\ac0ca5f5289a6cf108e706efcf040422dbbfa8e658dee6a819f20d76bb84d26b. Subsequent calls will reuse this data.\n"
     ]
    },
    {
     "data": {
      "text/plain": "  0%|          | 0/2 [00:00<?, ?it/s]",
      "application/vnd.jupyter.widget-view+json": {
       "version_major": 2,
       "version_minor": 0,
       "model_id": "0a669c481fcf4e5ea059245f3876f7ec"
      }
     },
     "metadata": {},
     "output_type": "display_data"
    },
    {
     "data": {
      "text/plain": "DatasetDict({\n    train: Dataset({\n        features: ['text', 'label'],\n        num_rows: 6212\n    })\n    test: Dataset({\n        features: ['text', 'label'],\n        num_rows: 1553\n    })\n})"
     },
     "execution_count": 8,
     "metadata": {},
     "output_type": "execute_result"
    }
   ],
   "source": [
    "dataset = load_dataset(\n",
    "    \"json\",\n",
    "    data_files = {\n",
    "        \"train\": os.path.join(DIR, \"trainl.json\"),\n",
    "        \"test\": os.path.join(DIR, \"testl.json\"),\n",
    "    }\n",
    ")\n",
    "dataset"
   ],
   "metadata": {
    "collapsed": false,
    "pycharm": {
     "name": "#%%\n"
    }
   }
  },
  {
   "cell_type": "markdown",
   "source": [],
   "metadata": {
    "collapsed": false
   }
  },
  {
   "cell_type": "code",
   "execution_count": 9,
   "outputs": [
    {
     "data": {
      "text/plain": "{'不好': 0, '好': 1}"
     },
     "execution_count": 9,
     "metadata": {},
     "output_type": "execute_result"
    }
   ],
   "source": [
    "label_list = dataset[\"train\"].unique(\"label\")\n",
    "label_list.sort()  # Let's sort it for determinism\n",
    "num_labels = len(label_list)\n",
    "\n",
    "# label_2_id\n",
    "label_2_id = dict()\n",
    "id_2_label = dict()\n",
    "for index, ele in enumerate(label_list):\n",
    "    label_2_id[ele] = index\n",
    "    id_2_label[index] = ele\n",
    "label_2_id"
   ],
   "metadata": {
    "collapsed": false,
    "pycharm": {
     "name": "#%%\n"
    }
   }
  },
  {
   "cell_type": "code",
   "execution_count": 10,
   "outputs": [
    {
     "name": "stderr",
     "output_type": "stream",
     "text": [
      "Some weights of the model checkpoint at E:\\pretrained_moel\\chinese-bert-wwm-ext were not used when initializing BertForSequenceClassification: ['cls.seq_relationship.weight', 'cls.predictions.transform.LayerNorm.bias', 'cls.predictions.transform.dense.bias', 'cls.predictions.transform.dense.weight', 'cls.predictions.decoder.weight', 'cls.predictions.transform.LayerNorm.weight', 'cls.seq_relationship.bias', 'cls.predictions.bias']\n",
      "- This IS expected if you are initializing BertForSequenceClassification from the checkpoint of a model trained on another task or with another architecture (e.g. initializing a BertForSequenceClassification model from a BertForPreTraining model).\n",
      "- This IS NOT expected if you are initializing BertForSequenceClassification from the checkpoint of a model that you expect to be exactly identical (initializing a BertForSequenceClassification model from a BertForSequenceClassification model).\n",
      "Some weights of BertForSequenceClassification were not initialized from the model checkpoint at E:\\pretrained_moel\\chinese-bert-wwm-ext and are newly initialized: ['classifier.bias', 'classifier.weight']\n",
      "You should probably TRAIN this model on a down-stream task to be able to use it for predictions and inference.\n"
     ]
    }
   ],
   "source": [
    "MODEL = \"E:\\\\pretrained_moel\\\\chinese-bert-wwm-ext\"\n",
    "tokenizer = BertTokenizer.from_pretrained(MODEL)\n",
    "bert_config = BertConfig.from_pretrained(MODEL, num_labels=num_labels)\n",
    "model = BertForSequenceClassification.from_pretrained(MODEL, config=bert_config)\n",
    "model.config.label2id = label_2_id\n",
    "model.config.id2label = id_2_label"
   ],
   "metadata": {
    "collapsed": false,
    "pycharm": {
     "name": "#%%\n"
    }
   }
  },
  {
   "cell_type": "code",
   "execution_count": 11,
   "outputs": [
    {
     "data": {
      "text/plain": "Running tokenizer on dataset:   0%|          | 0/7 [00:00<?, ?ba/s]",
      "application/vnd.jupyter.widget-view+json": {
       "version_major": 2,
       "version_minor": 0,
       "model_id": "5ec4622888e44fa0b30a0eb5c816c8bc"
      }
     },
     "metadata": {},
     "output_type": "display_data"
    },
    {
     "data": {
      "text/plain": "Running tokenizer on dataset:   0%|          | 0/2 [00:00<?, ?ba/s]",
      "application/vnd.jupyter.widget-view+json": {
       "version_major": 2,
       "version_minor": 0,
       "model_id": "dc025f39e83a45ac811ca0709af7fa3c"
      }
     },
     "metadata": {},
     "output_type": "display_data"
    }
   ],
   "source": [
    "def preprocess_function(examples):\n",
    "    # Tokenize the texts\n",
    "    result = tokenizer(\n",
    "        examples[\"text\"],\n",
    "        padding=\"max_length\",\n",
    "        max_length=128,\n",
    "        truncation=True\n",
    "    )\n",
    "\n",
    "    # Map labels to IDs\n",
    "    result[\"label\"] = [(label_2_id[item] if item != -1 else -1) for item in examples[\"label\"]]\n",
    "    return result\n",
    "\n",
    "raw_datasets = dataset.map(\n",
    "    preprocess_function,\n",
    "    batched=True,\n",
    "    desc=\"Running tokenizer on dataset\",\n",
    ")"
   ],
   "metadata": {
    "collapsed": false,
    "pycharm": {
     "name": "#%%\n"
    }
   }
  },
  {
   "cell_type": "code",
   "execution_count": 22,
   "outputs": [],
   "source": [
    "def compute_metrics(p):\n",
    "    pred, labels = p\n",
    "    pred = np.argmax(pred, axis=1)\n",
    "\n",
    "    report = classification_report(\n",
    "        y_true=labels,\n",
    "        y_pred=pred,\n",
    "        output_dict=True\n",
    "    )\n",
    "\n",
    "    return {\n",
    "        \"precision\": report[\"macro avg\"][\"precision\"],\n",
    "        \"recall\": report[\"macro avg\"][\"recall\"],\n",
    "        \"f1\": report[\"macro avg\"][\"f1-score\"]\n",
    "    }"
   ],
   "metadata": {
    "collapsed": false,
    "pycharm": {
     "name": "#%%\n"
    }
   }
  },
  {
   "cell_type": "code",
   "execution_count": 23,
   "outputs": [
    {
     "name": "stderr",
     "output_type": "stream",
     "text": [
      "PyTorch: setting up devices\n",
      "The default value for the training argument `--report_to` will change in v5 (from all installed integrations to none). In v5, you will need to use `--report_to all` to get the same behavior as now. You should start updating your code and make this info disappear :-).\n",
      "Using amp half precision backend\n"
     ]
    }
   ],
   "source": [
    "data_collator = DataCollatorWithPadding(tokenizer, pad_to_multiple_of=8)\n",
    "training_args = TrainingArguments(\n",
    "    f\"confident_learing\",\n",
    "    evaluation_strategy = \"epoch\",\n",
    "    save_strategy = \"epoch\",\n",
    "    learning_rate=2e-5,\n",
    "    per_device_train_batch_size=16,\n",
    "    per_device_eval_batch_size=16,\n",
    "    num_train_epochs=20,\n",
    "    weight_decay=0.01,\n",
    "    load_best_model_at_end=True,\n",
    "    fp16=True,\n",
    ")\n",
    "trainer = Trainer(\n",
    "    model=model,\n",
    "    tokenizer=tokenizer,\n",
    "    args=training_args,  # train arguments\n",
    "    train_dataset=raw_datasets[\"train\"],  # train dataset\n",
    "    eval_dataset=raw_datasets[\"test\"],  # evaluate datasets\n",
    "    compute_metrics=compute_metrics,  # compute metric when evaluate\n",
    "    callbacks=[EarlyStoppingCallback(early_stopping_patience=3)],  # early stopping\n",
    "    data_collator=data_collator,\n",
    ")"
   ],
   "metadata": {
    "collapsed": false,
    "pycharm": {
     "name": "#%%\n"
    }
   }
  },
  {
   "cell_type": "code",
   "execution_count": 24,
   "outputs": [
    {
     "name": "stderr",
     "output_type": "stream",
     "text": [
      "The following columns in the training set  don't have a corresponding argument in `BertForSequenceClassification.forward` and have been ignored: text.\n",
      "***** Running training *****\n",
      "  Num examples = 6212\n",
      "  Num Epochs = 20\n",
      "  Instantaneous batch size per device = 16\n",
      "  Total train batch size (w. parallel, distributed & accumulation) = 16\n",
      "  Gradient Accumulation steps = 1\n",
      "  Total optimization steps = 7780\n",
      "Automatic Weights & Biases logging enabled, to disable set os.environ[\"WANDB_DISABLED\"] = \"true\"\n"
     ]
    },
    {
     "data": {
      "text/plain": "<IPython.core.display.HTML object>",
      "text/html": "\n    <div>\n      \n      <progress value='2' max='7780' style='width:300px; height:20px; vertical-align: middle;'></progress>\n      [   2/7780 : < :, Epoch 0.00/20]\n    </div>\n    <table border=\"1\" class=\"dataframe\">\n  <thead>\n    <tr style=\"text-align: left;\">\n      <th>Epoch</th>\n      <th>Training Loss</th>\n      <th>Validation Loss</th>\n    </tr>\n  </thead>\n  <tbody>\n  </tbody>\n</table><p>"
     },
     "metadata": {},
     "output_type": "display_data"
    },
    {
     "name": "stderr",
     "output_type": "stream",
     "text": [
      "The following columns in the evaluation set  don't have a corresponding argument in `BertForSequenceClassification.forward` and have been ignored: text.\n",
      "***** Running Evaluation *****\n",
      "  Num examples = 1553\n",
      "  Batch size = 16\n",
      "Saving model checkpoint to confident_learing\\checkpoint-389\n",
      "Configuration saved in confident_learing\\checkpoint-389\\config.json\n",
      "Model weights saved in confident_learing\\checkpoint-389\\pytorch_model.bin\n",
      "tokenizer config file saved in confident_learing\\checkpoint-389\\tokenizer_config.json\n",
      "Special tokens file saved in confident_learing\\checkpoint-389\\special_tokens_map.json\n",
      "The following columns in the evaluation set  don't have a corresponding argument in `BertForSequenceClassification.forward` and have been ignored: text.\n",
      "***** Running Evaluation *****\n",
      "  Num examples = 1553\n",
      "  Batch size = 16\n",
      "Saving model checkpoint to confident_learing\\checkpoint-778\n",
      "Configuration saved in confident_learing\\checkpoint-778\\config.json\n",
      "Model weights saved in confident_learing\\checkpoint-778\\pytorch_model.bin\n",
      "tokenizer config file saved in confident_learing\\checkpoint-778\\tokenizer_config.json\n",
      "Special tokens file saved in confident_learing\\checkpoint-778\\special_tokens_map.json\n",
      "The following columns in the evaluation set  don't have a corresponding argument in `BertForSequenceClassification.forward` and have been ignored: text.\n",
      "***** Running Evaluation *****\n",
      "  Num examples = 1553\n",
      "  Batch size = 16\n",
      "Saving model checkpoint to confident_learing\\checkpoint-1167\n",
      "Configuration saved in confident_learing\\checkpoint-1167\\config.json\n",
      "Model weights saved in confident_learing\\checkpoint-1167\\pytorch_model.bin\n",
      "tokenizer config file saved in confident_learing\\checkpoint-1167\\tokenizer_config.json\n",
      "Special tokens file saved in confident_learing\\checkpoint-1167\\special_tokens_map.json\n",
      "The following columns in the evaluation set  don't have a corresponding argument in `BertForSequenceClassification.forward` and have been ignored: text.\n",
      "***** Running Evaluation *****\n",
      "  Num examples = 1553\n",
      "  Batch size = 16\n",
      "Saving model checkpoint to confident_learing\\checkpoint-1556\n",
      "Configuration saved in confident_learing\\checkpoint-1556\\config.json\n",
      "Model weights saved in confident_learing\\checkpoint-1556\\pytorch_model.bin\n",
      "tokenizer config file saved in confident_learing\\checkpoint-1556\\tokenizer_config.json\n",
      "Special tokens file saved in confident_learing\\checkpoint-1556\\special_tokens_map.json\n",
      "The following columns in the evaluation set  don't have a corresponding argument in `BertForSequenceClassification.forward` and have been ignored: text.\n",
      "***** Running Evaluation *****\n",
      "  Num examples = 1553\n",
      "  Batch size = 16\n",
      "Saving model checkpoint to confident_learing\\checkpoint-1945\n",
      "Configuration saved in confident_learing\\checkpoint-1945\\config.json\n",
      "Model weights saved in confident_learing\\checkpoint-1945\\pytorch_model.bin\n",
      "tokenizer config file saved in confident_learing\\checkpoint-1945\\tokenizer_config.json\n",
      "Special tokens file saved in confident_learing\\checkpoint-1945\\special_tokens_map.json\n",
      "\n",
      "\n",
      "Training completed. Do not forget to share your model on huggingface.co/models =)\n",
      "\n",
      "\n",
      "Loading best model from confident_learing\\checkpoint-778 (score: 0.2992105185985565).\n"
     ]
    },
    {
     "data": {
      "text/plain": "TrainOutput(global_step=1945, training_loss=0.10920466150906522, metrics={'train_runtime': 178.5984, 'train_samples_per_second': 695.639, 'train_steps_per_second': 43.561, 'total_flos': 2043057344870400.0, 'train_loss': 0.10920466150906522, 'epoch': 5.0})"
     },
     "execution_count": 24,
     "metadata": {},
     "output_type": "execute_result"
    }
   ],
   "source": [
    "trainer.train()"
   ],
   "metadata": {
    "collapsed": false,
    "pycharm": {
     "name": "#%%\n"
    }
   }
  },
  {
   "cell_type": "code",
   "execution_count": 31,
   "outputs": [],
   "source": [
    "def jsonl_reader(file: str) -> list:\n",
    "    \"\"\"Get Json_list from jsonl File\n",
    "\n",
    "    :param file: JSONL file\n",
    "    :return:\n",
    "    \"\"\"\n",
    "    result = list()\n",
    "    with codecs.open(file, \"r\", encoding=\"utf_8\") as f:\n",
    "        for line in f.readlines():\n",
    "            json_ele = json.loads(line)\n",
    "            result.append(json_ele)\n",
    "    f.close()\n",
    "    return result\n",
    "\n",
    "list_test = jsonl_reader(\n",
    "    os.path.join(\n",
    "        DIR,\n",
    "        \"testl.json\"\n",
    "    )\n",
    ")"
   ],
   "metadata": {
    "collapsed": false,
    "pycharm": {
     "name": "#%%\n"
    }
   }
  },
  {
   "cell_type": "code",
   "execution_count": 36,
   "outputs": [
    {
     "name": "stdout",
     "output_type": "stream",
     "text": [
      "[[{'label': '不好', 'score': 0.0025735984090715647}, {'label': '好', 'score': 0.9974263310432434}], [{'label': '不好', 'score': 0.9902770519256592}, {'label': '好', 'score': 0.009722927585244179}], [{'label': '不好', 'score': 0.002062177285552025}, {'label': '好', 'score': 0.9979377388954163}]]\n"
     ]
    }
   ],
   "source": [
    "classifer = TextClassificationPipeline(\n",
    "    model = model,\n",
    "    tokenizer = tokenizer,\n",
    "    return_all_scores = True,\n",
    "    device=0\n",
    ")\n",
    "list_text = [ele[\"text\"][:510] for ele in list_test]\n",
    "list_scores = classifer(list_text)\n",
    "print(list_scores[:3])"
   ],
   "metadata": {
    "collapsed": false,
    "pycharm": {
     "name": "#%%\n"
    }
   }
  },
  {
   "cell_type": "code",
   "execution_count": 41,
   "outputs": [
    {
     "name": "stdout",
     "output_type": "stream",
     "text": [
      "The total Number of Test_Dataset is 1553 and there are 99 bad data in Test_Dataset which accounts for 6.374758531873793 %\n",
      "[ 965   60  338  940  458 1210 1459  631  316 1381  938   62 1386  987\n",
      " 1374  776 1349 1194 1545  942  505 1521  153  119  131  986  335 1350\n",
      " 1395  829  593  367 1415 1184  361 1401  659  184  777 1391 1506  366\n",
      "  698  978 1526  103  122   84   92  369 1432 1281  665  362 1131   72\n",
      " 1302 1291  163  446  809 1323 1118  239  990 1501  782  872  244 1257\n",
      "  880 1249  642  647  571  192  892 1067  637   46  313 1054   93  983\n",
      " 1420 1499  734  648 1198   63  416   82  127  677  855  493   87  716\n",
      " 1537]\n"
     ]
    }
   ],
   "source": [
    "import cleanlab\n",
    "s = [label_2_id[ele[\"label\"]] for ele in list_test]\n",
    "psx = list()\n",
    "for ele in list_scores:\n",
    "    psx.append([\n",
    "        ele[0][\"score\"],\n",
    "        ele[1][\"score\"],\n",
    "    ])\n",
    "\n",
    "# Method 5：C+NR\n",
    "cl_both = cleanlab.pruning.get_noise_indices(\n",
    "    np.array(s),\n",
    "    np.array(psx),\n",
    "    prune_method='both',\n",
    "    sorted_index_method='prob_given_label'\n",
    ")\n",
    "print(\n",
    "      \"The total Number of Test_Dataset is {} and there are {} bad data in Test_Dataset which accounts for {} %\".format(\n",
    "          len(list_test),\n",
    "          len(cl_both),\n",
    "          len(cl_both)*100/len(list_test)\n",
    "\n",
    "))\n",
    "print(cl_both)"
   ],
   "metadata": {
    "collapsed": false,
    "pycharm": {
     "name": "#%%\n"
    }
   }
  },
  {
   "cell_type": "code",
   "execution_count": 39,
   "outputs": [
    {
     "name": "stdout",
     "output_type": "stream",
     "text": [
      "{'text': '打车太不方便，我在门口等了40分钟；早餐品种少。宽带还比较快！房间空调调不了。苏州还有一个茉莉花假日，下次试试。补充点评2008年4月22日：刚接到酒店预订部的电话，对所提的意见进行了跟踪反馈，赞一个。与我14日入住的上海华港雅阁酒店（虹桥机场）比起来，真是天壤之别。24日又到苏州，不过这次我已经预订了另外一家酒店，下次到苏州，我会考虑再次入住友联。希望真的已经改进。', 'label': '不好'}\n",
      "[{'label': '不好', 'score': 0.002219702349975705}, {'label': '好', 'score': 0.9977802634239197}]\n",
      "{'text': '前台服务态度挺好。但酒店设施较简单陈旧，感觉连二星的都比不上，房间隔音效果也不好，外面卡拉ok的声音听的清清楚楚，晚上要是失眠了可以听听歌。宾馆反馈2007年10月30日：尊敬的宾客：非常感谢您的光临及提出宝贵的意见，本酒店目前的房间设施设备是以简约时尚为前提，关于隔音改造工程正在完善中，相信我们会以更优质的服务和舒适的客房、便利的商务环境，迎接您的再次光临！', 'label': '不好'}\n",
      "[{'label': '不好', 'score': 0.0022937506437301636}, {'label': '好', 'score': 0.9977061748504639}]\n",
      "{'text': '10月24日入住西楼,房间很宽敞,但设施旧了一些,它的房间有两道门,这点很少见,所以晚上很安静,走廊的声音会小很多.当时相同的价格,如果去附近的步行街上找一找,会有惊喜.还好,电视信号还有,那天嫦娥升空,真巧.', 'label': '不好'}\n",
      "[{'label': '不好', 'score': 0.002881971187889576}, {'label': '好', 'score': 0.9971179962158203}]\n",
      "{'text': '和山里的农庄比算是好的了吧。墙壁都开裂了，房间还算干净，离镇上有1公里吧，叫车只要2元。镇上有上海华联，还挺大的，买些吃的喝的用的都挺方便。', 'label': '不好'}\n",
      "[{'label': '不好', 'score': 0.0030554654076695442}, {'label': '好', 'score': 0.9969444870948792}]\n",
      "{'text': '推荐天目湖宾馆,各方面设置比这家好多了.值得推荐的是他们的餐厅还算过得去,鱼头还能吃吃.但是前台小姐的服务太差了。', 'label': '不好'}\n",
      "[{'label': '不好', 'score': 0.003655328182503581}, {'label': '好', 'score': 0.9963446259498596}]\n",
      "{'text': '价格在贵阳算便宜的，不过房间太旧，够大，空调暖风白天不开，生气！', 'label': '不好'}\n",
      "[{'label': '不好', 'score': 0.004035105928778648}, {'label': '好', 'score': 0.9959648847579956}]\n",
      "{'text': '大家都说平湖君悦酒店床铺太小，很不幸我中招了，我是预订完了之后才看到大家评价的。这家酒店的内部设施偏老，早餐不好吃，房间有点小，设施还算全，卫生间也很旧！补充点评2008年6月3日：我建议大家在平湖多走走，比君悦酒店性价比高的宾馆多得是！', 'label': '不好'}\n",
      "[{'label': '不好', 'score': 0.004077838268131018}, {'label': '好', 'score': 0.9959222078323364}]\n",
      "{'text': '枕头太低了不好睡，不过在驻马店这种地方算可以了', 'label': '不好'}\n",
      "[{'label': '不好', 'score': 0.004169832449406385}, {'label': '好', 'score': 0.9958301186561584}]\n",
      "{'text': '我于6月1日再次入住,住的是1312房,首先价格由238元涨到278元,是整个乌鲁木齐酒店旺季都涨了,据说每年7月和8月乌鲁木齐酒店都还要涨,这也可以理解,毕竟就那么几个月可以赚钱,冬天都是零下20几度,人很少.但是我发现房间的迷你吧撤了,只有留了两瓶矿泉水.卫', 'label': '不好'}\n",
      "[{'label': '不好', 'score': 0.004460657015442848}, {'label': '好', 'score': 0.9955393671989441}]\n",
      "{'text': '中庸的酒店,本来冲着环保房去的,可是,哎,有些失望啊', 'label': '不好'}\n",
      "[{'label': '不好', 'score': 0.004524781368672848}, {'label': '好', 'score': 0.9954752326011658}]\n",
      "{'text': '介绍说酒店是座落于北四环的北苑路，结果晕我。该酒店位置偏僻，再走几步就是五环了，怎么会是四环？？第二天一早等半天也没有出租车来，只有走到大马路边去等，还是没有。冷得要命，最后没有办法，有一黑出租问我走不走，只有坐上车走了。房间还是不错得。', 'label': '不好'}\n",
      "[{'label': '不好', 'score': 0.005061193834990263}, {'label': '好', 'score': 0.994938850402832}]\n",
      "{'text': '感觉环境,服务方面还不够位,房间里面的洗浴设施有点发黄,需要改善!!', 'label': '不好'}\n",
      "[{'label': '不好', 'score': 0.005137821659445763}, {'label': '好', 'score': 0.9948621392250061}]\n",
      "{'text': '经常入住京伦酒店，感觉还不错。但是3月份去的一次，安排了一个最拐角的房间有一张双人床，服务人员说要是豪华间多交钱才能给大双人床，以后去北京会考虑入住别的酒店。', 'label': '不好'}\n",
      "[{'label': '不好', 'score': 0.005399878602474928}, {'label': '好', 'score': 0.9946001768112183}]\n",
      "{'text': '传说中的四星挂牌，2星标准，倒也恰当。房间的地毯确实很脏，其他还行啦！卫生纸确实如传说中的少，两个人有点不够用。服务嘛，不知道，因为是跟携程团去的，一大早就走了，没机会领略。早餐，确实品种少，除了牛奶（是奶粉加糖价开水，亲眼所见）和粥，该冷的是冷的，该热的也还是冷的。稍微晚去就排队加排队。酒店周围都是卖土特产，水果店和小便利店（杂货店）也多。补充点评2007年10月22日：客房提供的居然不是袋泡茶，而是新鲜的绿茶，感觉很好。没有咖啡，有需要的得自带。没有免费矿泉水。', 'label': '不好'}\n",
      "[{'label': '不好', 'score': 0.005593148525804281}, {'label': '好', 'score': 0.9944068193435669}]\n",
      "{'text': '房间很小，洗手间不干净，我住的标间，浴缸里面脏死了，我都不敢站，而且下水的速度好慢啊，不过地处北京丰台区，做公车20分钟就可以到前门，服务员的态度还是很好的。但相比如家、锦江之星，这里真不像是连锁的，就是一个旅馆。', 'label': '不好'}\n",
      "[{'label': '不好', 'score': 0.006133569870144129}, {'label': '好', 'score': 0.9938663840293884}]\n",
      "{'text': '酒店在西宁来说还是比较满意的,首先,地理位置不错,人口素质还不错.其次,房间设置虽然比较简单,但基本达到四星标准.第三,不满意的地方就是服务问题.各位先前入住酒店的朋友已经提到了,我需要补充的是,前台的女服务员还没有男服务生热情.基本不属于不会笑的或者是比较会耍NB的.按照对方理论,谁让我们是外地人呢,人家能给我们个地儿住就不错了.最后,我要说的是,早餐只有中餐,虽是自助,但基本没有办法评论,我只提一点,早餐的橙汁是热的,原来是用市场上早已绝迹的TANG果珍冲泡的.所以房间我给3分,环境给4分外,都是1分.', 'label': '不好'}\n",
      "[{'label': '不好', 'score': 0.006390209775418043}, {'label': '好', 'score': 0.9936097860336304}]\n",
      "{'text': '可以坐地铁8号线，在曲阜路下车出地铁就到了。西藏北路路口出。到对面就能找到国庆路。不过这个酒店的毛巾，浴巾相当的旧，而且还是黄色的那种，我都没有用过。还好只是住了一天。比较起来对面的晋元大酒店在这方面做的就好多了，旧是旧了点但是毛巾比较好，起码可以用。不过这个地方相对来说很安静。', 'label': '不好'}\n",
      "[{'label': '不好', 'score': 0.006603033281862736}, {'label': '好', 'score': 0.9933969974517822}]\n",
      "{'text': '感觉一般，就是各方面都一般，在三门峡这种地方住住还是可以的', 'label': '不好'}\n",
      "[{'label': '不好', 'score': 0.00697348965331912}, {'label': '好', 'score': 0.9930264949798584}]\n",
      "{'text': '卫生设施太差，毛巾又黑又硬，下水道堵塞，床垫不好，睡上去不是很舒服。觉得服务态度还可以。对面就是长途汽车站，出租车蛮多的，出行还是很方便。', 'label': '不好'}\n",
      "[{'label': '不好', 'score': 0.007410705089569092}, {'label': '好', 'score': 0.9925892353057861}]\n",
      "{'text': '入住的经济客房,一开门进去浓厚的霉味,且无窗户255的房价是不值的,如果住别的酒店的话,可能会更好', 'label': '不好'}\n",
      "[{'label': '不好', 'score': 0.008445167914032936}, {'label': '好', 'score': 0.9915547966957092}]\n",
      "{'text': '酒店最大的特色就是房间大。问题在于，我在前台明明刷了两天的预授权，但是服务员却只给我做了一天的房卡，我每个月都会至少住一次太平洋，每次至少3天，每次只做一天房卡的事情发生也不止一次了！！而且楼层电话是坏的，没办法打到前台区，每次都害得我跑到大堂去重做房卡，这样的服务是在是让人气愤！！', 'label': '不好'}\n",
      "[{'label': '不好', 'score': 0.009513918310403824}, {'label': '好', 'score': 0.9904860854148865}]\n",
      "{'text': '地理位置是公认的不错，但是缺点也不少，主要是电梯慢，走廊狭窄，房间设施有些陈旧了，临时住一晚可以，时间长了不建议入住。', 'label': '不好'}\n",
      "[{'label': '不好', 'score': 0.009911194443702698}, {'label': '好', 'score': 0.9900888800621033}]\n",
      "{'text': '交通还比较方便,价格相对便宜,但是设施有些陈旧,没有网络可上网,服务生的素质相对较低些,如果重新装修在这个位置应该还是不错.', 'label': '不好'}\n",
      "[{'label': '不好', 'score': 0.009942560456693172}, {'label': '好', 'score': 0.9900574088096619}]\n",
      "{'text': '8月8日晚上到的，到了以后立刻开电视，发现没有信号。10多分钟后保安才上来。打开电视，都已经开始运动员入场式~好慢好慢....等阿等阿。终于等完了，火炬进场了~一个一个一个一个传，传到张军的时候。叭嚓，华丽丽的停电了~~我的奥运梦想阿~~破裂了', 'label': '不好'}\n",
      "[{'label': '不好', 'score': 0.011194841004908085}, {'label': '好', 'score': 0.9888051748275757}]\n",
      "{'text': '建议旅游的人住道里区，这个酒店太远了，交通不方便，客房新装修，但浴室小且有异味。白天水温不热。自己去的价格比携程的价格要便宜，约150到180就能拿下。不过服务态度停不错的。', 'label': '不好'}\n",
      "[{'label': '不好', 'score': 0.011683959513902664}, {'label': '好', 'score': 0.988315999507904}]\n",
      "{'text': '感觉一般，如果是来旅游的话，离闹市区比较远，有点不便。是地板而不是我所喜欢的地毯，宽带要另外收费不爽，不过有数字电视算是弥补一下了。客房很简单，家具有点小，感觉不够大气，最好笑的是卫生间竟然没有插座。。。。靠马路的房间很吵，虽然有双层窗，但还是不够安静。补充点评2007年5月4日：上面的点评是点评别的宾馆的，搞错了~~~~~~~~~补充一下：地点是在闹市区，去逛街很方便，房间除了是地板，其他还过的去，宽带要收费不爽，早餐一般，不过鱼丸味道还可以', 'label': '不好'}\n",
      "[{'label': '不好', 'score': 0.011692028492689133}, {'label': '好', 'score': 0.9883080124855042}]\n",
      "{'text': '旧楼改建的酒店，期望不要太高。酒店经理的态度很好，会帮助解决问题。有一位前台小姐的态度实在是不敢恭维，可以说恶劣', 'label': '不好'}\n",
      "[{'label': '不好', 'score': 0.011769287288188934}, {'label': '好', 'score': 0.9882307052612305}]\n",
      "{'text': '房间里的设施没有广告中理想！价格也没有网上所说的那样分明清楚~~', 'label': '不好'}\n",
      "[{'label': '不好', 'score': 0.012397462502121925}, {'label': '好', 'score': 0.9876025319099426}]\n",
      "{'text': '我在台前排理退房,居然有其他房客直接到台不遵守前後次序,而台人依然所直接理插房客退房手,完全排秩序先後!真令我!同五星酒店,我老板住喜登,我在喜登酒店口排等出租,有人也是插直接上出租,但是喜登房立刻赳正插客人口和要求方下到正位置排等候;怪喜登可以登上成都最佳酒店排行第一.', 'label': '不好'}\n",
      "[{'label': '不好', 'score': 0.012671814300119877}, {'label': '好', 'score': 0.9873282313346863}]\n",
      "{'text': '客观的评价，酒店的位置不错，但是周围的环境不好，门的位置较偏，感觉酒店不旺，但是生意较好，都是旅行团。门口打车不方便，有一个大坡，去的时候，赶上下雨，要冒雨跑下大坡，步行2分钟，才看到出租车！预订的是一件大床房间，很小。房间的采光不好。家具太久了，有霉味。电视很小，也旧。但是会赚钱，有三级片（没有看）70元。浴室很小，水龙头花洒管是漏的，叫人维修，很热情，本来以为会更换一条花洒软管，没想到，师傅手巧，剪掉漏的一节，又可以用了，开眼界（鄙人从事过水暖行业制造，对此感到惊奇）被子看来也是很旧，10月入住，重庆已经冷了，想开暖气，但是开了没有，打电话到客房中心查询，马上来了一个维修师傅，很客气的用四川话，检查后告诉我还没有供暖，当时室内温度19摄氏度，哈哈！总体感觉和4星酒店差距比较大，比曾经住过的银河大酒店比，差距很大！唯一可以说好一点的是：服务还可以，比较热情，诚恳，但是不专业！补充点评2007年11月1日：补充一点，大床，不是酒店通常的大床，不是2米床，也不是1.8米床，是标准的1.5米床（和一般家庭的床一样），这样的床，实在不是大床！', 'label': '不好'}\n",
      "[{'label': '不好', 'score': 0.012924893759191036}, {'label': '好', 'score': 0.9870750308036804}]\n",
      "{'text': '环境不怎样，住了一天就换了！性价比不高，服务有待改进！', 'label': '不好'}\n",
      "[{'label': '不好', 'score': 0.013133861124515533}, {'label': '好', 'score': 0.9868661761283875}]\n",
      "{'text': '第一次评价。为什么呢。因为该酒店结算的时候多收了我50元钱。说是消费了：一把刮刀15元，另外35元是保健品。可是，苍天为证，我根本就没有用过那所谓的保健品。当时退房时也没有过多和他理论。让前台算就算进去好了，可是一再强调没有用过。前台MM还好，说要确认一下，不然不能乱收你钱的。确认了一下，服务员还是说没有掉了。呵呵，真是见鬼了。补充点评2008年6月9日：补充一下。酒店的隔音很差。门里门外，没有区别。然后性价比还是有的。当然也有好的一面。大家可以入住。', 'label': '不好'}\n",
      "[{'label': '不好', 'score': 0.01447195466607809}, {'label': '好', 'score': 0.9855280518531799}]\n",
      "{'text': '差就一个字！房间隔音差，马路上的声音声声入耳！所谓的宽带还没有拨号上网快，打开网页要等半天，收邮件整整收了5个小时才收下来！跟前台反映问题说没有办法解决！', 'label': '好'}\n",
      "[{'label': '不好', 'score': 0.9849720597267151}, {'label': '好', 'score': 0.015027947723865509}]\n",
      "{'text': '卫生间门是坏的，面巾纸也没有，房间内也不暖和，服务更不怎么样，还比不上当地4星的酒店，特别是前台和礼宾。住了就不想再住', 'label': '好'}\n",
      "[{'label': '不好', 'score': 0.9846100807189941}, {'label': '好', 'score': 0.015389968641102314}]\n",
      "{'text': '很好的地理位置，一蹋糊涂的服务，萧条的酒店。', 'label': '不好'}\n",
      "[{'label': '不好', 'score': 0.016716081649065018}, {'label': '好', 'score': 0.9832839965820312}]\n",
      "{'text': '10多年来住过的近百家3星酒店中，这家酒店的服务、房间、餐饮简直是“好”的无话可说！！！向大堂经理反映问题，大堂经理的答复是“去315投诉吧”（入住当天是3月12日），真强悍！！！', 'label': '不好'}\n",
      "[{'label': '不好', 'score': 0.01673383265733719}, {'label': '好', 'score': 0.9832661151885986}]\n",
      "{'text': '入住时处于展会附近，到前台时被告知由于晚到1小时，定单取消了。追问是否还有房间，回答曰：“没有”（大概是生意太好，不想做携程生意）向携程反映，发现是信用卡担保定单-于是立刻有房间了。进入房间，发现没有打扫过，反映给前台，说立刻通知处理，结果等了40分钟，催了4次，发了火才有服务员来。房间不错，没有多余的无必要的设施，但外墙由于挂了竖幅，大风吹着猎猎作响，影响睡眠。还没完，早上专门买了餐券，到自助餐厅-什么都没剩下，稀饭都没有，难道两个人花30元，分食唯一的一片面包？还有其他人也在虎视耽耽。', 'label': '不好'}\n",
      "[{'label': '不好', 'score': 0.01859847642481327}, {'label': '好', 'score': 0.9814015030860901}]\n",
      "{'text': '前台人员不但英语不好,普通话也不好.不过,大堂吧的服务人员很赞.', 'label': '不好'}\n",
      "[{'label': '不好', 'score': 0.02004995383322239}, {'label': '好', 'score': 0.9799500703811646}]\n",
      "{'text': '房间的卫生间较差，不尽人意。总的感觉不是很好。但是个人用品的卫生还是很规范的，整洁而且包装的很完整。', 'label': '不好'}\n",
      "[{'label': '不好', 'score': 0.020808031782507896}, {'label': '好', 'score': 0.9791918992996216}]\n",
      "{'text': '网速非常慢，玩qq游戏都卡了很长时间结帐也挺慢服务员过于积极房间还比较大，就是电视效果很差性价比不高，还要200多', 'label': '不好'}\n",
      "[{'label': '不好', 'score': 0.02170458249747753}, {'label': '好', 'score': 0.9782953858375549}]\n",
      "{'text': '房子太旧不值这个价格。网速超慢~不要住大床房，大床房在拐角，电视很小很奇怪的格局。我晚上冷不给中央空调，说室外温度都19度~~~，不给开中央空调。避孕工具倒是很全~.电视不清楚，而且台很少。宾馆反馈2008年4月24日：我们的客房又做了部分装修,更换了地毯和墙纸.如果您还给我们机会,欢迎您下回再来看看.上网的问题解决了,宾馆以前是使用的宽带上网,现在是使用光纤了.', 'label': '不好'}\n",
      "[{'label': '不好', 'score': 0.021733645349740982}, {'label': '好', 'score': 0.9782664179801941}]\n",
      "{'text': '酒店很新并且很有档次和气派，主楼设计和总体设备设施让人感觉非常不错，周遍是一个广场，视线很开阔。但令人非常愤怒的是，为什么通过携程网预订的客房总是常常被安排在不方正的――床和电视机等客房设施都歪歪扭扭摆放的房间（1710房），真的不止一个客人反映这样的问题，携程网的客人一样付钱消费，为什么会受到不公正的待遇？！难道就是因为那40元/间.晚的返佣费给的不甘心？！酒店在争创五星，应该做到给每一位客人提供最优质最满意的服务，否则受到伤害的顾客永不会再光顾，何况现在酒店这么多……望酒店领导能重视这个问题，解决这个尴尬的局面，真正让酒店在硬件和软件都上五星。', 'label': '不好'}\n",
      "[{'label': '不好', 'score': 0.021734818816184998}, {'label': '好', 'score': 0.9782651662826538}]\n",
      "{'text': '刚住过这里，感觉不好，房间味道太大，一股子霉味，房间各种设施都很陈旧，我所预订的大床间，却没有宽带，只能一个住在双人标间。因为去的时候较晚，所以有点饿，结果在房间找了半天，只找了一个空荡荡的摆设冰箱。这么老的酒店还不装修一下，估计不会有回头客。好的一点是环境不错，但在海南，像这种花园式的宾馆还是不少的，并不构成特色。如果有人到洋浦来，建议住在海景花园宾馆，四星级设计，在房间门口的走廊上就面向大海，整个是个花园式布局。如果要洗浴，可以打个三轮车去干充（音译），只有几公里的路程。价格也很公道，238元大床间。', 'label': '不好'}\n",
      "[{'label': '不好', 'score': 0.023764634504914284}, {'label': '好', 'score': 0.9762353897094727}]\n",
      "{'text': '我是头一次到九寨沟,通过携程预先订了格桑.去到后发现自己被误导了,这个酒店较旧,感觉很脏,服务一般.旁边有很多酒店,没进去,但感觉比格桑要好.下次去,首选是不住格桑了,挑其他的试试.', 'label': '不好'}\n",
      "[{'label': '不好', 'score': 0.024334967136383057}, {'label': '好', 'score': 0.9756650328636169}]\n",
      "{'text': '给父母订的~回来说房间远不及盛华的,早餐也不行.唯一好的就是在风景区内了~', 'label': '不好'}\n",
      "[{'label': '不好', 'score': 0.02540581114590168}, {'label': '好', 'score': 0.9745941758155823}]\n",
      "{'text': '还是房价贵了点，如果房价在200就可以了。', 'label': '不好'}\n",
      "[{'label': '不好', 'score': 0.028303436934947968}, {'label': '好', 'score': 0.9716965556144714}]\n",
      "{'text': '马马乎乎!能住.标准不要太高.在小街上,出门没法打车.还行!住吧!', 'label': '好'}\n",
      "[{'label': '不好', 'score': 0.9709410071372986}, {'label': '好', 'score': 0.02905903570353985}]\n",
      "{'text': '1房间很小，地毯很脏，白毛巾显黑色2中央空调有异响，后半夜只好关掉3洗澡水忽冷忽热', 'label': '不好'}\n",
      "[{'label': '不好', 'score': 0.030332354828715324}, {'label': '好', 'score': 0.9696676135063171}]\n",
      "{'text': '宾馆很豪华，周围环境很好，适合度假。但酒店服务很差。五星级宾馆的大床间竟然没有宽带。早餐也很一般。免费注册网站导航宾馆索引服务说明关于携程诚聘英才代理合作广告业务联系我们Copyright1999-2008,ctrip.com.allrightsreserved.', 'label': '好'}\n",
      "[{'label': '不好', 'score': 0.9668281674385071}, {'label': '好', 'score': 0.033171847462654114}]\n",
      "{'text': '设施太旧了,服务也不行,打电话要个插座都推来推去,给四星太勉强了.', 'label': '好'}\n",
      "[{'label': '不好', 'score': 0.9666370749473572}, {'label': '好', 'score': 0.033362917602062225}]\n",
      "{'text': '性价比低，感觉很贵。选择酒店主要是离附近的企业近一些。房间总是能听得很响的水声。希望酒店能降低价格。目前的设施同安徽省内其它酒店相比只值250元不到啊', 'label': '不好'}\n",
      "[{'label': '不好', 'score': 0.0336073599755764}, {'label': '好', 'score': 0.9663926362991333}]\n",
      "{'text': '9月初去南京,住的这家酒店.看网上评价还不错.可是到了酒店后感觉特不舒服.客观评价一下:1.那位门童大叔,笑容可鞠,前台的服务员和自助餐厅的服务员,让人感觉真是\"宾至如归\";2.房间太小了,除了一张小单人床外,走路都很困难,设施也非常陈旧,感觉象几十元的招待所;3.原计划住两天的,只住了一', 'label': '不好'}\n",
      "[{'label': '不好', 'score': 0.0360749252140522}, {'label': '好', 'score': 0.9639250636100769}]\n",
      "{'text': '如果你是用携程订的，他们会告诉你不要给携程讲住过酒店。这个酒店就是便宜，便宜无好货也是有道理的。下次不会去住了宾馆反馈2008年5月12日：您好，我是如家七斗星沙坪坝店店助，非常抱歉给您留下如此不好的印象，我为您受到的如此遭遇给您真诚的道歉。因为我店前期正在进行人员调整，前台服务员都是新招的员工，由于我们对他们的培训不够，以至于服务员在工作中的服务很不到位，确实犯了很多错误，经过这一个月的严格培训，现在酒店的服务水平已有大幅提升，各种工作已有很大进步，非常欢迎您再次入住我们酒店，相信这次肯定会留下美好的印象，真诚的邀请您。最后再谢谢您给我们提出意见，没有您这样的客人，我们的服务将不能提高，非常感谢。', 'label': '不好'}\n",
      "[{'label': '不好', 'score': 0.037229377776384354}, {'label': '好', 'score': 0.9627706408500671}]\n",
      "{'text': '和楼下的朋友感触差不多，这个酒店的硬件和服务都一般，住15层豪华单人间，电视不清楚，床硬，被子薄，空调温度不够，晚上睡的不舒服，冷。卫生间设施还比较不错，装修不久的缘故吧。经当地人的推荐，我下次来这个城市会选择，新开的赵王或者开发区的皇冠，也向大家推荐。', 'label': '不好'}\n",
      "[{'label': '不好', 'score': 0.03770262748003006}, {'label': '好', 'score': 0.9622973799705505}]\n",
      "{'text': '早餐有时8点结束，刷卡不方便，还要压现金，房间打扫不及时', 'label': '不好'}\n",
      "[{'label': '不好', 'score': 0.038878362625837326}, {'label': '好', 'score': 0.9611216187477112}]\n",
      "{'text': '注意啦！！这个酒店只有6、7楼重新装修过（地毯是深灰色）。其他都是旧装修。我们出住时，提出要看房间，前台安排我们看了6楼。是不错的装修。地毯是新的。没有什么异味。但5楼是该酒店的KTV，很吵。但5楼的房里能听到楼下唱歌及微微的震动。所以我决定不选五楼。我问服务员，这房间是新装修的吗？因为看到洗手间的配置很新。他回答我不是，全酒店都一样。回到前台，他们给我安排了13楼。心想不错嘛。结果与朋友拖着行李到了13楼，电梯一开，已看到是旧地毯，污积斑斑。进了房间，一鼓酸臭味！洗手间也不是5楼的配置。。。差异太大了。结果，，我们做了有史以来最经典的事。。。因错按了一层号码，电梯门一开，发现也是旧装修（旧地毯，浅色大花）补充点评2007年10月10日：结果，我们决定每一层都看一下地毯来决定来入住哪一层，因我10.1期间自驾车去玩，共入住过6晚不同的酒店，前一天入住[杭州]杭州最佳西方梅苑宾馆，就是因为只相信了CTRIP的网评，在没有看房间的情况下入住了，房间感觉很不好，根本与四星不相配，所以这次一定要选好一点。我们坐电梯每一层都看了一眼地毯（当时已晚上10点，没有什么客人来往，所以我们不会打扰到其他人用电梯，而且有4台电梯的）发现只有7楼是新地毯，还是11楼及15楼是比较干净的旧款地毯（主要是霉气味不太重。来到前台要求换房，转7楼或11楼。前台也不说什么，同意换。但告之：7楼已客满。11楼是行政楼层，要加100元。最后，我们选了15楼。。要求非吸烟房。前台同意。进房，，还是有点霉气味，但比11楼小。最好笑就是看到服务员从房间里拿走烟灰缸，，哈哈！！！这就是非吸烟房！！服务员给我们打开窗户，说吹一下风，味道就没有了。天呀！！四星酒店！！！真是只有6楼的配置比较合符四星。。但5楼的噪音又将此优势给去掉了。。。但酒店对面另一家“皇冠”酒店也是四星的。比它更不好，所以，还是住下了。。这间酒店是唯一一间要退房时，查有没有东西要赔，之类的。。我前几天住三星的酒店都没有这个要求！还有，房价是298，我订了两个房共一晚，酒店要求压金2000元！', 'label': '好'}\n",
      "[{'label': '不好', 'score': 0.9608013033866882}, {'label': '好', 'score': 0.03919869661331177}]\n",
      "{'text': '非常一般，房间很小，家具过时、老旧。性价比太差，订一晚，后又续一晚。实在不满意后俩日改住洲际酒店。我后面续订一日，居然不算通过携城预定！可能是利益所驱，相较之下，洲际我也是先订一日再续。洲际就处理的很好。补充点评2008年5月20日：还有，通过携城订的是大床房，去了变成标间。非常不愉快！', 'label': '好'}\n",
      "[{'label': '不好', 'score': 0.960536777973175}, {'label': '好', 'score': 0.03946318477392197}]\n",
      "{'text': '我是四月十三号入住的,挂牌价是258元,经询问服务员才知道携程价228元是扣去早餐费30元得出的.服务态度不冷不热,通知六点叫早,竟然等到六点半才叫.浴室的门打开后人根本没办法进去,水是忽冷忽热,一个澡洗下来,居然洗的皮肤烫伤人又感冒.宾馆反馈2008年5月10日：感谢您对我们酒店的点评，给您带来如此不便，我们向您道歉，我们会加强对酒店服务人员的培训，以便达到更好、更高的服务要求。你的叫醒时间晚了半个小时，我们已经查出原因，因为电脑电池处于低电量状态，所以比正常时间晚了半小时，我们已经修复，希望您能够原谅，我们再次欢迎您的光临，也希望您能提出更多的建议和意见，让我们的服务做得更好！', 'label': '不好'}\n",
      "[{'label': '不好', 'score': 0.04011586308479309}, {'label': '好', 'score': 0.9598841667175293}]\n",
      "{'text': '不想多说，就一句话，以后不会住了，不过前台的妹妹很漂亮。宾馆反馈2008年4月3日：尊敬的客户：您好！如您在锦昌大酒店入住期间有不愉快，敬请您把您的意见和建议告诉我们，我们将为您提供更优质的服务！总经理：黄同金联系电话：0791-2878108锦昌大酒店', 'label': '不好'}\n",
      "[{'label': '不好', 'score': 0.040133778005838394}, {'label': '好', 'score': 0.9598662257194519}]\n",
      "{'text': '不知为何，成都的凯宾斯基饭店确实不能够与其他凯宾斯基饭店相提并论，硬件倒说不出有什么不妥，但软件却不敢恭维。checkin的时候，信用卡被他们告知有问题，居然是余额不足（这是绝对不可能发生的，应该是饭店的网络出了问题），好不容易在银行工作人员的协助下解决了。Checkout的时候，居然说我用了小吧台的物品，查来查去，又被告知是前一位客人使用的，记在我名下。所以，建议朋友们，如果对服务要求比较高，可能不是最佳选择。另外，这个酒店无论哪个房间，都比较吵。', 'label': '好'}\n",
      "[{'label': '不好', 'score': 0.9594107866287231}, {'label': '好', 'score': 0.04058924689888954}]\n",
      "{'text': '我凌晨12点半抵达时，房间居然完全没有收拾过，屋内有垃圾，洗手间里还有用过的卫生纸。我不得不干等了半个小时，等他们收拾好房间。然后早上8点就被酒店的施工人员吵醒。前台解决问题的态度还不错。', 'label': '不好'}\n",
      "[{'label': '不好', 'score': 0.04134641960263252}, {'label': '好', 'score': 0.9586535692214966}]\n",
      "{'text': '在前台不能刷卡预授权，有点不方便。搞不懂，为什么可以刷卡消费，却不能刷预授权？', 'label': '不好'}\n",
      "[{'label': '不好', 'score': 0.04264248162508011}, {'label': '好', 'score': 0.9573575258255005}]\n",
      "{'text': '环境一般，房间还可以！交通不是很方便，服务也是一般化！', 'label': '好'}\n",
      "[{'label': '不好', 'score': 0.9553300738334656}, {'label': '好', 'score': 0.04466991126537323}]\n",
      "{'text': '鞋撑在云南的协议酒店少得可怜，应该下大力气多做些工作，把如家的店子也到处开一开，要不然我们这些鞋撑依赖症患者都找不到住的地方啦。和当地大多数酒店一样，上网在这里是很奢侈的，非要住商务间才有的。订房的时候鞋撑说不能刷卡，到前台却是可以刷的，还比较方便。房间里就很一般，热水是几乎没有，害得阮一家人两天没法洗澡。早餐极差，不论稀饭干饭炒饭煮饭，只要有米的地方就一定有沙子。电梯有时候停运，不晓得什么原因。楼下有超市，环境一般。可走路到洱海公园或明珠广场，都不算太远。打车到机场约40元，到大理古城一带需要大约35元。大理的出租车在城内打表，出城议价，斩客现象严重。从开发区到下关市中心人民广场一带才6块钱，刚出起步价。服务水平有待提高，退房时说不见了卫生间里纸筒里的卷纸轴，非要问阮是不是给拿走了，NND，有谁会对他们的那个烂东西感兴趣的。建议要在大理住酒店的朋友，开发区这边的酒店有很多，看起来还不错。头一晚在这里歇歇脚，然后自己再去找住的地方也可以的。', 'label': '不好'}\n",
      "[{'label': '不好', 'score': 0.044783707708120346}, {'label': '好', 'score': 0.9552162885665894}]\n",
      "{'text': '很一般，也就是3-4星级水平。房间里有崭新的电脑，早餐尚可，房价不贵，实际上在保税区也没什么更好的选择了。', 'label': '好'}\n",
      "[{'label': '不好', 'score': 0.9549898505210876}, {'label': '好', 'score': 0.045010149478912354}]\n",
      "{'text': '打电话到酒店问路，总机说不知道，转礼宾部，几个小伙也不熟悉，连东向西向也分不清，不过总算说了个标志性建筑，让我有了方向。问商务中心买份地图让送上来，居然说礼宾部忙，在替别的客人下行李，要等半小时。等就等吧，但足足等了一个半小时，还是电话催了才送的。房间还算干净，但卫生间小的转不过身。退房时落东西了，服务员查房也没发现，还是自己发觉了打电话回总台再查才找到的。总体来说在吉林能住到这样的酒店还不错，但价格一点也不便宜。无论硬件还是服务都是四星的标准。', 'label': '好'}\n",
      "[{'label': '不好', 'score': 0.9545618891716003}, {'label': '好', 'score': 0.04543810337781906}]\n",
      "{'text': '好像第二次入住了，这次的标间环境不好，房间感觉不台干净，电视机也不好', 'label': '好'}\n",
      "[{'label': '不好', 'score': 0.9545456171035767}, {'label': '好', 'score': 0.045454394072294235}]\n",
      "{'text': '房间还可以（我住的是二十一层），但空调不太好--温度不好调节以及噪音不小，淋浴水量也不是很大。另外就是酒店电梯太少了，只有两部可以用。每次都要等好长时间才能等到电梯。下次估计不会再住了', 'label': '好'}\n",
      "[{'label': '不好', 'score': 0.9544004201889038}, {'label': '好', 'score': 0.04559954255819321}]\n",
      "{'text': '我在晚上6点30左右入住的,当时是一位男服务员为我登记,我问他可不可以作信用卡预授权，他说不可以但建议我可以用现金作为押金到退房时可以用信用卡消费．房间很大但很旧，电视机只能收到４个台的节目，在第三天我退房时要求用信用卡消费，当时一位女服务员说我之前是用现金作为押金是不可以再用信用卡消费的，还反问我说如果我要消费的话在入住时为什么不做预授权，当时我就把之前那位男服务员说的话跟他说一次后又反口说是因为现在机器坏了不能用，我跟她说我在３０分钟之前见到有一位客人才用信用卡消费过，为什么会这么快就坏了，她见我态度那么强硬就帮我用卡消费了，事实上证明了刷卡机并没有坏，当时因为我们赶着到机场坐飞机就没有再跟她理论了，但一直觉得心中有气．', 'label': '不好'}\n",
      "[{'label': '不好', 'score': 0.05186675116419792}, {'label': '好', 'score': 0.9481332302093506}]\n",
      "{'text': '友好，干净－－太讽刺了！一进房间看到马桶的水是黄色的。因为想要个能上网的电源插座，被前台数落了一顿。说如果我是刚入住时要求可以帮我想办法，现在没办法了。所以一晚上无法开电脑工作。其它细节相对这两点来说就好多了。比如电视不能用遥控器彻底关掉，要下床关，床头灯一个不亮，半夜有人敲对面的门从睡梦中被敲醒看表12：58分，电梯里面有人吸烟，开发票不给写抬头。', 'label': '不好'}\n",
      "[{'label': '不好', 'score': 0.05311991274356842}, {'label': '好', 'score': 0.9468801021575928}]\n",
      "{'text': '7月中旬入住过一晚，说说感受。硬件条件和皇冠的牌子还是比较匹配的，但软件（服务）还差的很多。1.入住那天被安排进了一间高级间，洗澡的时候发现没有浴帘，结果弄的厕所满地都是水，打电话去问，告知：这种浴缸是给那些泡澡的人设计的。言外之意是不适合淋浴。洗手间内并没有另外的淋浴房。2.健身房内的跑步机的传送带很窄，跑步的时候经常担心会摔倒。健身房内的矿泉水要收15一瓶，水就是房间里免费的那种。据理力争了半天，把大堂经理都折腾上来才免费了。3.结账的时候钱都付完，发票也开完了，被告知还有上网费没有结清。就是那著名的11.5一小时的上网费。头回听说都结完帐了还要收钱的。4.门口出租车坐地起价。因为赶飞机，让门僮帮忙拦了一部出租车，车刚开出去没多远，司机就抬高价格，如果不接受他就不拉。据司机说是要给门僮好处费。因为赶飞机，只能付了冤枉钱。5.最后说说大堂。大堂搞了很多山山水水，的确是很漂亮，不过也成了蚊子的温床。在大堂久留一定会被蚊子咬的。', 'label': '好'}\n",
      "[{'label': '不好', 'score': 0.9468475580215454}, {'label': '好', 'score': 0.05315251275897026}]\n",
      "{'text': '除了地段好之外，其他没有一样好的。宽带慢得像蜗牛，他们居然说就是这样。大堂和客房是在不同楼里，我登记后要拿行李出门去旁边的楼坐电梯。早餐也配五星酒店？吃得像农村一样。以后不会住的。', 'label': '好'}\n",
      "[{'label': '不好', 'score': 0.9457151889801025}, {'label': '好', 'score': 0.054284822195768356}]\n",
      "{'text': '广大携程会员请注意:此酒店旁边在造地铁之类的施工,有噪音和灰尘.等完工还有一段日期.出门叫出租车也不方便.入住请考虑这些方面因素.客房里的茶叶不是免费的,是要收钱啦,也要注意.', 'label': '不好'}\n",
      "[{'label': '不好', 'score': 0.058767031878232956}, {'label': '好', 'score': 0.9412329792976379}]\n",
      "{'text': '去之前在携城上预定的是豪华行政单间，打完折是380元，到了那里接机服务还算不错，蛮准时的。司机也应我要求先把我送到另外一个我要去的地方，而不是直接去酒店checkin。他们同时也帮我做了房间预留。办完事16：00点我进的酒店。进了房间以后发现房间很小根本没有网上说的25cm2,大家可以看我贴上去的照片，床是一面贴着墙的。因为这与我预定的信息不符,于是打电话去前台询问，前台竟然说我定的是三星标准的豪华行政单间，现在给我的是五星标准的单人间，还讽刺地说“如果你对面积有一味的追求可以帮你换回来。”态度很不客气。就算你房价是一样的，在给客人换房之前至少也应该打个招呼吧，这是最起码的尊重。何况他们所谓的五星根本不符合五星标准。房间小就不说了，洗浴品只有洗发水，没有浴袍，茶水篮里仅有一包绿茶。卫星频道大概5个吧。如果大家要去连云港，我建议大家住明珠万豪，虽然离市区稍微远一点，但是服务和环境设施要好的多。服务员也很亲切，符合他们对外挂牌的准五星水平。虽然加上明珠香榭（没住过），3家明珠同属一个老板。但感觉真的差很多。', 'label': '好'}\n",
      "[{'label': '不好', 'score': 0.9370418787002563}, {'label': '好', 'score': 0.06295809149742126}]\n",
      "{'text': '入住感想如下：找不到5星级宾馆的感觉、总体水平最多只能算4星级。虽然房价比中州皇冠便宜100元左右、但所有硬件及软件远不及中州皇冠。', 'label': '好'}\n",
      "[{'label': '不好', 'score': 0.9349246621131897}, {'label': '好', 'score': 0.06507530808448792}]\n",
      "{'text': '十一期间携程订的鸿展楼，网上说是四星，到地方一看怎么也不像，问服务员这是四星酒店吗？她说，是的啊，指了指大门上用红胶纸剪的四颗红五星。这就是四星，我昏。大堂人员解释，迎宾馆是四星，鸿展楼是附楼，没有四星，原来如此。房间很大，设备很旧，床单也很旧。不过价钱不贵，一天是178。早餐不太好，牛奶没有牛奶味，餐具也不是太干净。不过也不能小看这家酒店，每间房里有一本画册，上面满是朱容基、李鹏、经叔平等国家政要在这里的提字和合影留念。补充点评2007年10月7日：住酒店停车还要收费，我是第一次遇到。', 'label': '不好'}\n",
      "[{'label': '不好', 'score': 0.06546374410390854}, {'label': '好', 'score': 0.9345362782478333}]\n",
      "{'text': '订的豪华单人间，进房间居然是两张床的标间，到总台交涉说是没有了，差点让我换酒店，最后把豪华套房给我住了，按原来订的价格算，前后时间花了不少。第二天结账刷卡的单子打不出来，据说是纸没装好，看看都打电话给农行了，我就先去办了事，中午回去拿到了。感觉服务人员设备使用方面有欠缺，这么个小设备几个人都搞不定，晕。', 'label': '好'}\n",
      "[{'label': '不好', 'score': 0.9323611259460449}, {'label': '好', 'score': 0.06763891130685806}]\n",
      "{'text': '门前的解放西街正在全线翻修，汽车根本进不去，也不事先告知。大床是用两个单人床拼凑而成，床垫的塑料外包装还保留完整，褥子又极薄，可以感受到凉意。骚扰电话太多。结帐速度太慢。', 'label': '不好'}\n",
      "[{'label': '不好', 'score': 0.06933711469173431}, {'label': '好', 'score': 0.9306628704071045}]\n",
      "{'text': '网上讲的房间是24平米，实际没有那么大。另外房的空调也不是很凉快!', 'label': '好'}\n",
      "[{'label': '不好', 'score': 0.9284133315086365}, {'label': '好', 'score': 0.0715867355465889}]\n",
      "{'text': '一般情况下我不会对酒店评价，但这个酒店实在是需要点评一下，非常不满意。主要有以下情况：1.前台给我的房间是D座，从前台到客房走了5分多钟，对于5星级实在不敢恭维。2.进入客房非常冷，打开空调半个小时左右才热起来。3.空调声音巨大，晚上开空调睡不着，不开又冷，只能凑合了。4.5星饭店居然没有电熨斗和熨衣板，我也懒得和客房要，实在说不过去。5.饭店里居然没有ATM机。6.饭店门口没有出租车，到大门等的话，由于此饭店在鄂尔多斯市郊，打车很难。7.客房的冰箱里居然连付费的饮料都没有，但有个饮料单，呵呵。8.卫生间居然没有浴缸，倒不是一定要泡澡，但5星的标准实在值得怀疑。9.淋浴室的角落都是脏的，很难想象发生过什么，呵呵。10.没有看到饭店服务介绍的资料，只有一个点评单，我都懒得评了，实在没什么可说的。总的说，饭店的硬件还OK,服务人员的服务还可以，但小的问题太多，性价比实在太低。希望改进。改进前我是不会再住此饭店了。', 'label': '好'}\n",
      "[{'label': '不好', 'score': 0.928343653678894}, {'label': '好', 'score': 0.07165635377168655}]\n",
      "{'text': '中餐厅的服务员有忽悠客人嫌疑，我们晚上9点到宾馆，上下跑了二回才找到中餐厅，我们一壶茶也没喝，也收了我们的茶费，更让人气愤的是，我们点的鳝鱼筒有异味，我们向服务员提出，她们态度很好，口头答应餐费减去，但到退房结账时，还是没有减去，因为我们要赶时间就没有和她们理论，但给我们留下的是她们的诚信不够。', 'label': '好'}\n",
      "[{'label': '不好', 'score': 0.9271588921546936}, {'label': '好', 'score': 0.07284115999937057}]\n",
      "{'text': '于其说是点评,不如说是投诉,2008年7月15日晚,我公司一行3人通过携程网预定入住市长大厦,作为广州服务业的知名宾馆,我们对该单位的软件,硬件和服务无可厚非,因为它的价格比起其他的宾馆也是不一般的,但有关该宾馆自定的口头条款用于实际的服务强加给入住客人时,使我们不得不对其星级的服务和档次表示怀疑.事情是这样的,当时一行三人有2位是日本客人,在晚间洗澡时导致入住房间的地毯浸湿,16日离店时由总台值班经理处理此事,提出按照宾馆规定要赔偿一天的营业损失620元,我本人作为客人对此有极大不满和看法:1.首先:赔偿620元的规定只是宾馆的前台人员口头说出并强加给客人,相关的书面规定条款我们没有看到!2.作为广州知名的5星级宾馆,客人入住后有水浸地毯的事实,但宾馆方面没有从自身寻找原因,只是值班经理说通过检查他们的排水系统的硬件没有问题,我给人认为,处理问题最讲究的是要有证据,如只是听从宾馆人员单方面的信口雌黄,能说明问题吗,作为服务行业,难道出了问题更多的是找出没有证据的理由来对客人强加责难和经济惩罚吗?这显然违背了该行业的存在初衷!3.疑问:之所以会有以上的投诉反馈,我们不禁要问:宾馆浴缸在正常的放水时即使有连续的水注入,浴缸上方的溢水孔同样也会及时地排出多余的水,怎么会有水流出呢?原因无非有2种:其一地漏不同或流淌缓慢导致积水溢出卫生间.其二溢水孔是否真的有溢水功效?4.现在的宾馆,诸多都是以自制的霸王条款来约束客人,甚至超越其权限对客人进行经济处罚,这本身就是对\"服务\"和\"星级\"的一种亵渎,试想,入住这么高档的酒店,排除极个别的因素外,有那位客人会没事去做这样无聊的事情让其水漫金山呢?况且,入住者还是50几岁的老人!5.最终由于我们赶路的原因,还是作了\"妥协\",交了罚款,离店而去,留给外方客人的是对广州市长大厦这种处理问题的方式和态度表示更多的无奈和遗憾,同时更多的是我们中国人对服务行业的国人(抛开政治因素)的这种做法提出反思,是否我们应该改一改了!要知道,简单的口头武断是不能作为评定事实的证据的,要以理服人,以德服人!6.目前为止,对此事我们还保留向有关部门投诉的权力!7.对于该酒店的软硬环境评价,我们还是以公正的心态去评判!毕竟,没有最好,只有更好嘛!', 'label': '好'}\n",
      "[{'label': '不好', 'score': 0.9261083602905273}, {'label': '好', 'score': 0.07389161735773087}]\n",
      "{'text': '经携程定的浪漫情人夜度假产品，6月20日中午12点入住蜜月套房，中午12点30分到达酒店、办理好入住手续才被告知房间未搞卫生，需要一小时、问前台接待是否留电话给他，搞好卫生通知一声，得到冷淡的回答：一小时后自已来问吧！没办法只好在西餐厅苦苦的等待，等到1点30分到前台询问：另外一位接待的感到奇怪怎还没能给入住，打电话问后答复还需要20分钟才能搞好，1点50分终于可以入住了。进入房间感到有点热就打开空调、调到22度，冲个凉休息一下，睡了一会感到房间还是那么热，一看空调、调节器定的22度显示屋内温度28度，打电话到管家部、答应叫工程师过来看看，等了10分钟工程师来了，说了一句：不好意思，我们是中央空调，现在全部设定的温度是27-28度，晚上就会好点，真难受！这就是五星级酒店，晚上上半夜的温度是25度、早上8点钟再看是24度，大家想象一下，6月20日是《夏至》是全年最热的日子，住在这样的五星级宾馆是不是拿钱来受罪啊！酒店大堂是豪华，西餐厅的套餐是不错，可是前台的接待和酒店为了省电所设定的温度真的太差劲了，原定第二天入住豪华客房，也只能取消赳快离开了…', 'label': '好'}\n",
      "[{'label': '不好', 'score': 0.9196335077285767}, {'label': '好', 'score': 0.08036649227142334}]\n",
      "{'text': '不好的地方就是我们搞不明白这么差的兴安县城怎么会有那么好的酒店，呵呵，乐满地我们没有去游，可能是因为那里吧', 'label': '好'}\n",
      "[{'label': '不好', 'score': 0.9150488376617432}, {'label': '好', 'score': 0.08495118468999863}]\n",
      "{'text': '1.诚信有问题的酒店。在前台问价格比网上订便宜多了，然后，知道你是网上订的，就马上改口，然后一定要你用网上的价格结算（由于网上订是用信用卡担保的，没办法），结果，就被坑了。2.房间的蚊子挺多的。3.温泉没怎么清洁，早上8：00去泡，刚换的水，还是很脏，不明白为何人那么少，还那么脏；温泉的设施与开平、阳江比，只能说是落后10年了；4.温泉在山边，空气不错。5.餐厅还行，早点做得不错，与外的几间大排档比，价格上也很接近，在餐厅吃也不错。补充点评2007年10月7日：少说了一点：6.酒店没有POS机，不接受信用卡，这非常少见。', 'label': '不好'}\n",
      "[{'label': '不好', 'score': 0.08530043065547943}, {'label': '好', 'score': 0.9146995544433594}]\n",
      "{'text': '住了几次，这次还特意带了朋友一起去入住，结果，酒店的早餐让我们太失望了，越来越差啊，九点去的时候吃的东西都没有什么了，以后我是不会再来了。', 'label': '好'}\n",
      "[{'label': '不好', 'score': 0.9108873009681702}, {'label': '好', 'score': 0.08911270648241043}]\n",
      "{'text': '这家酒店其实在中国银行另一面,不要按地址寻访,问当地人也大都说不清,不如问中国银行大厦在哪,就好找多了.还有酒店早餐太差又贵.', 'label': '好'}\n",
      "[{'label': '不好', 'score': 0.9090395569801331}, {'label': '好', 'score': 0.09096039086580276}]\n",
      "{'text': '房间设施不', 'label': '好'}\n",
      "[{'label': '不好', 'score': 0.9000642895698547}, {'label': '好', 'score': 0.09993571043014526}]\n",
      "{'text': '酒店太旧了，价格偏高，所谓送的三餐没有什么优势可言，总要出门办事，不可能天天跑回酒店去吃中餐和晚餐', 'label': '好'}\n",
      "[{'label': '不好', 'score': 0.897056519985199}, {'label': '好', 'score': 0.10294345766305923}]\n",
      "{'text': '该酒店内的桑那中心的从业人员，用欺骗的方式，赚取客人的钱。', 'label': '好'}\n",
      "[{'label': '不好', 'score': 0.8927618265151978}, {'label': '好', 'score': 0.10723818093538284}]\n",
      "{'text': '早餐种类太少质量也太差，吃稀饭都没有一般的花生、酱菜、咸蛋、腐乳或油条配菜等，吃面包那个土司也是20年前的做法干的不得了，要了碗馄顿里面的馅还没有煮熟，这等于没吃！补充点评2008年8月13日：补充一点，很重要的是旅馆早餐的咖啡实在是难以入口，建议好好改进，这应该不难吧。', 'label': '好'}\n",
      "[{'label': '不好', 'score': 0.8894045948982239}, {'label': '好', 'score': 0.11059536784887314}]\n",
      "{'text': '就在机场对面，走到机场就5分钟吧，如果要赶飞机的话住那里还蛮方便的，里面的设施就一般了，3星的标准吧', 'label': '好'}\n",
      "[{'label': '不好', 'score': 0.8548530340194702}, {'label': '好', 'score': 0.14514699578285217}]\n",
      "{'text': '三星级酒店，烟草公司投资的，但开业早，装修有些旧，房间比较大，但自觉不如如家等舒适。本来也没准备住星级酒店，但查携程未看到商务酒店。实际上我在商业区看到一家晋江之星，不知为什么携程没有。', 'label': '好'}\n",
      "[{'label': '不好', 'score': 0.8142086267471313}, {'label': '好', 'score': 0.18579137325286865}]\n",
      "{'text': '我是10月5日到万豪住了一个晚上,说真的绝对不能和五星级酒店联系在一起.服务意识确实不错,但晚上以后好象酒店自己有一个象是夜总会的地方,音乐响到凌晨2点多,嘈死人了.以后再也不去住了.', 'label': '好'}\n",
      "[{'label': '不好', 'score': 0.799357533454895}, {'label': '好', 'score': 0.20064254105091095}]\n",
      "{'text': '所定的房价间并不是水床房，那里水床只有两间，房间的空气并不好，很闷。', 'label': '好'}\n",
      "[{'label': '不好', 'score': 0.7982396483421326}, {'label': '好', 'score': 0.20176033675670624}]\n",
      "{'text': '虽然该酒店确实是当地（大角湾）最好的酒店，设施应该算刚刚达到四星标准了，但是服务就有点名不符实了，顶多达到三星（主要是指有些服务无法提供，能提供的服务倒是不错）。而最不满意的是靠沙滩为卖点的酒店，竟然无法直接进入沙滩，使我们对酒店的印象大打折扣。', 'label': '好'}\n",
      "[{'label': '不好', 'score': 0.7971146106719971}, {'label': '好', 'score': 0.20288531482219696}]\n",
      "{'text': '酒店地理位置较偏，如无自驾车，不建议入住。酒店在装修设计规划方面并不能体现四星的标准，其实底子还是很不错的，却弄得有些蛮荒的感觉，如酒店主楼前后的草坪都未能很好的利用。酒店的服务员很滑稽，会用眼光注视客人，但却不会问好，那么还不如不注视。入住时，前台一位男生还在用扬州话聊电话，对客人不理不睬。房间的装修很单调，墙面上都是素色的墙纸。大面积的空处，却无一副装饰画，单调无比。特别是标间的21寸电视，实在小得有些搞笑。卫浴设施到都是科勒的，勉强过关。至于学经济型酒店的通透卫浴设计，相对四星酒店有些不伦不类吧。酒店的自助早餐，两天没有变换菜式，被好友不幸言中，呵呵。如果你不是一位苛刻的人，还是能接受这样的酒店的。只是离四星实在有些距离。哦，还有，酒店大厅进出的感应门，反应极端的迟钝，哈哈！', 'label': '好'}\n",
      "[{'label': '不好', 'score': 0.7847482562065125}, {'label': '好', 'score': 0.21525172889232635}]\n",
      "{'text': '我是本周5晚上入住假日酒店的，订的是海景房。酒店的周边环境很一般，所谓的海景也就是一个码头，和我想象的还是有一定的差距。周边的旅游设施也不是很完善。所谓的网球场也是冷冷清清。酒店的中餐厅味道不错，但是点菜的小姐缺乏职业道德。写菜的时候已经明确告知我要去掉其中的一道名为东江豆腐煲的菜，但是上菜的时候还是上了。不知道该酒店是怎样对员工进行培训的，2个人能吃4道菜吗？？？事后餐厅的领班还阵阵有词，让人感觉星级酒店和大排档没有太大的区别。', 'label': '好'}\n",
      "[{'label': '不好', 'score': 0.769624650478363}, {'label': '好', 'score': 0.23037533462047577}]\n",
      "{'text': '早餐还可以，停车方便，二楼餐厅很安静。朝南的房间靠近锅炉房，声音吵。宾馆反馈2008年8月12日：回复：尊敬的宾客：首先非常感谢您对本酒店的肯定。关于您反映的房间外噪音问题，是酒店一项临时性的施工引起，我们对施工的噪音已有具体的要求和措施，也将更加严格执行。诚挚欢迎您的再次光临！', 'label': '好'}\n",
      "[{'label': '不好', 'score': 0.5865465402603149}, {'label': '好', 'score': 0.41345342993736267}]\n"
     ]
    }
   ],
   "source": [
    "for ele in cl_both:\n",
    "    print(list_test[ele])\n",
    "    print(list_scores[ele])"
   ],
   "metadata": {
    "collapsed": false,
    "pycharm": {
     "name": "#%%\n"
    }
   }
  }
 ],
 "metadata": {
  "kernelspec": {
   "name": "conda-env-pytorch-py",
   "language": "python",
   "display_name": "Python [conda env:pytorch] *"
  },
  "language_info": {
   "codemirror_mode": {
    "name": "ipython",
    "version": 2
   },
   "file_extension": ".py",
   "mimetype": "text/x-python",
   "name": "python",
   "nbconvert_exporter": "python",
   "pygments_lexer": "ipython2",
   "version": "2.7.6"
  }
 },
 "nbformat": 4,
 "nbformat_minor": 0
}